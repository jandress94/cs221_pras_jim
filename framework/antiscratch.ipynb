{
 "metadata": {
  "name": "",
  "signature": "sha256:70146268d13b4233eddd793c4ed23e7659622d0c16a53c9e6183528eb1c3f0cc"
 },
 "nbformat": 3,
 "nbformat_minor": 0,
 "worksheets": [
  {
   "cells": [
    {
     "cell_type": "code",
     "collapsed": false,
     "input": [
      "print {'K', 'Q', 'R', 'B', 'N', 'P'} | {'k', 'q', 'r', 'b', 'n', 'p'}"
     ],
     "language": "python",
     "metadata": {},
     "outputs": [
      {
       "output_type": "stream",
       "stream": "stdout",
       "text": [
        "set(['q', 'r', 'B', 'p', 'K', 'N', 'Q', 'P', 'R', 'n', 'b', 'k'])\n"
       ]
      }
     ],
     "prompt_number": 2
    },
    {
     "cell_type": "code",
     "collapsed": false,
     "input": [
      "from Board import *\n",
      "\n",
      "b = Board()\n",
      "print len(b.get_legal_moves())"
     ],
     "language": "python",
     "metadata": {},
     "outputs": [
      {
       "output_type": "stream",
       "stream": "stdout",
       "text": [
        "20\n"
       ]
      }
     ],
     "prompt_number": 2
    },
    {
     "cell_type": "code",
     "collapsed": false,
     "input": [
      "from GamePlayer import *\n",
      "from RandomEngine import Random\n",
      "\n",
      "gp = GamePlayer(Random(), Random(), False)\n",
      "gp.play_game()"
     ],
     "language": "python",
     "metadata": {},
     "outputs": [
      {
       "output_type": "stream",
       "stream": "stdout",
       "text": [
        "Move:  1\n",
        "White played the move  b1a3\n",
        "Move:  1\n",
        "Black played the move  a7a6\n",
        "Move:  2\n",
        "White played the move  e2e4\n",
        "Move:  2\n",
        "Black played the move  b7b6\n",
        "Move:  3\n",
        "White played the move  f1a6\n",
        "Move:  3\n",
        "Black played the move  b8a6\n",
        "Move:  4\n",
        "White played the move  g2g4\n",
        "Move:  4\n",
        "Black played the move  a8b8\n",
        "Move:  5\n",
        "White played the move  g4g5\n",
        "Move:  5\n",
        "Black played the move  b8a8\n",
        "Move:  6\n",
        "White played the move  a3c4\n",
        "Move:  6\n",
        "Black played the move  a8a7\n",
        "Move:  7\n",
        "White played the move  c4b6\n",
        "Move:  7\n",
        "Black played the move  c7b6\n",
        "Move:  8\n",
        "White played the move  d1g4\n",
        "Move:  8\n",
        "Black played the move  e7e6\n",
        "Move:  9\n",
        "White played the move  g4e6\n",
        "Move:  9\n",
        "Black played the move  d7e6\n",
        "Move:  10\n",
        "White played the move  f2f4\n",
        "Move:  10\n",
        "Black played the move  d8d2\n",
        "Move:  11\n",
        "White played the move  c1d2\n",
        "Move:  11\n",
        "Black played the move  f8d6\n",
        "Move:  12\n",
        "White played the move  c2c3\n",
        "Move:  12\n",
        "Black played the move  d6f4\n",
        "Move:  13\n",
        "White played the move  d2f4\n",
        "Move:  13\n",
        "Black played the move  f7f5\n",
        "Move:  14\n",
        "White played the move  e4f5\n",
        "Move:  14\n",
        "Black played the move  e6f5\n",
        "Move: "
       ]
      },
      {
       "output_type": "stream",
       "stream": "stdout",
       "text": [
        " 15\n",
        "White played the move  e1f1\n",
        "Move:  15\n",
        "Black played the move  a7e7\n",
        "Move:  16\n",
        "White played the move  h2h4\n",
        "Move:  16\n",
        "Black played the move  e8d7\n",
        "Move:  17\n",
        "White played the move  a2a4\n",
        "Move:  17\n",
        "Black played the move  h7h5\n",
        "Move:  18\n",
        "White played the move  a1c1\n",
        "Move:  18\n",
        "Black played the move  e7e4\n",
        "Move:  19\n",
        "White played the move  c1b1\n",
        "Move:  19\n",
        "Black played the move  e4f4\n",
        "Move:  20\n",
        "White played the move  f1g2\n",
        "Move:  20\n",
        "Black played the move  f4h4\n",
        "Move:  21\n",
        "White played the move  h1h4\n",
        "Move:  21\n",
        "Black played the move  h8h7\n",
        "Move:  22\n",
        "White played the move  h4h5\n",
        "Move:  22\n",
        "Black played the move  h7h5\n",
        "Move:  23\n",
        "White played the move  b1c1\n",
        "Move:  23\n",
        "Black played the move  h5g5\n",
        "Move:  24\n",
        "White played the move  c1c2\n",
        "Move: "
       ]
      },
      {
       "output_type": "stream",
       "stream": "stdout",
       "text": [
        " 24\n",
        "Black played the move  g5g2\n",
        "Move:  25\n",
        "White played the move  c2g2\n",
        "Move:  25\n",
        "Black played the move  f5f4\n",
        "Move:  26\n",
        "White played the move  g2g7\n",
        "Move:  26\n",
        "Black played the move  c8b7\n",
        "Move:  27\n",
        "White played the move  g7d7\n",
        "Move:  27\n",
        "Black played the move  b7g2\n",
        "Move:  28\n",
        "White played the move  d7e7\n",
        "Move:  28\n",
        "Black played the move  g8e7\n",
        "Move:  29\n",
        "White played the move  c3c4\n",
        "Move:  29\n",
        "Black played the move  f4f3\n",
        "Move:  30\n",
        "White played the move  g1f3\n",
        "Move:  30\n",
        "Black played the move  g2f3\n",
        "Move:  31\n",
        "White played the move  b2b3\n",
        "Move:  31\n",
        "Black played the move  a6c5\n",
        "Move:  32\n",
        "White played the move  a4a5\n",
        "Move:  32\n",
        "Black played the move  b6a5\n",
        "Move:  33\n",
        "White played the move  b3b4\n",
        "Move:  33\n",
        "Black played the move  a5b4\n",
        "P\n",
        "DRAWN GAME\n",
        "Number of moves:  34\n"
       ]
      }
     ],
     "prompt_number": 6
    },
    {
     "cell_type": "code",
     "collapsed": false,
     "input": [
      "print 'P'.lower()"
     ],
     "language": "python",
     "metadata": {},
     "outputs": [
      {
       "output_type": "stream",
       "stream": "stdout",
       "text": [
        "p\n"
       ]
      }
     ],
     "prompt_number": 2
    },
    {
     "cell_type": "code",
     "collapsed": false,
     "input": [
      "x = \"exd6e.p.\"\n",
      "print x[-4]"
     ],
     "language": "python",
     "metadata": {},
     "outputs": [
      {
       "output_type": "stream",
       "stream": "stdout",
       "text": [
        "e\n"
       ]
      }
     ],
     "prompt_number": 4
    },
    {
     "cell_type": "code",
     "collapsed": false,
     "input": [
      "alg = 'f8=Q'\n",
      "print alg[-2:]"
     ],
     "language": "python",
     "metadata": {},
     "outputs": [
      {
       "output_type": "stream",
       "stream": "stdout",
       "text": [
        "=Q\n"
       ]
      }
     ],
     "prompt_number": 11
    },
    {
     "cell_type": "code",
     "collapsed": false,
     "input": [
      "print 'A'.islower()"
     ],
     "language": "python",
     "metadata": {},
     "outputs": [
      {
       "output_type": "stream",
       "stream": "stdout",
       "text": [
        "False\n"
       ]
      }
     ],
     "prompt_number": 13
    },
    {
     "cell_type": "code",
     "collapsed": false,
     "input": [
      "# from Move import *\n",
      "from Board import Board\n",
      "b = Board()\n",
      "move = b.algebraic_to_se(\"e4\")\n",
      "print move.move_to_str()"
     ],
     "language": "python",
     "metadata": {},
     "outputs": [
      {
       "output_type": "stream",
       "stream": "stdout",
       "text": [
        "e2e4\n"
       ]
      }
     ],
     "prompt_number": 2
    },
    {
     "cell_type": "code",
     "collapsed": false,
     "input": [
      "print 1 in [1, 2, 3]"
     ],
     "language": "python",
     "metadata": {},
     "outputs": [
      {
       "output_type": "stream",
       "stream": "stdout",
       "text": [
        "True\n"
       ]
      }
     ],
     "prompt_number": 2
    },
    {
     "cell_type": "code",
     "collapsed": false,
     "input": [
      "l = [(1, 2), (3, 4)]\n",
      "print [item for sublist in l for item in sublist if item != 3]"
     ],
     "language": "python",
     "metadata": {},
     "outputs": [
      {
       "output_type": "stream",
       "stream": "stdout",
       "text": [
        "[1, 2, 4]\n"
       ]
      }
     ],
     "prompt_number": 14
    },
    {
     "cell_type": "code",
     "collapsed": false,
     "input": [
      "for i in range(10) if not 5:\n",
      "    print i"
     ],
     "language": "python",
     "metadata": {},
     "outputs": [
      {
       "ename": "SyntaxError",
       "evalue": "invalid syntax (<ipython-input-13-d094eed96299>, line 1)",
       "output_type": "pyerr",
       "traceback": [
        "\u001b[0;36m  File \u001b[0;32m\"<ipython-input-13-d094eed96299>\"\u001b[0;36m, line \u001b[0;32m1\u001b[0m\n\u001b[0;31m    for i in range(10) if not 5:\u001b[0m\n\u001b[0m                               ^\u001b[0m\n\u001b[0;31mSyntaxError\u001b[0m\u001b[0;31m:\u001b[0m invalid syntax\n"
       ]
      }
     ],
     "prompt_number": 13
    },
    {
     "cell_type": "code",
     "collapsed": false,
     "input": [
      "python game_parser.py"
     ],
     "language": "python",
     "metadata": {},
     "outputs": [
      {
       "ename": "SyntaxError",
       "evalue": "invalid syntax (<ipython-input-15-85701318cce5>, line 1)",
       "output_type": "pyerr",
       "traceback": [
        "\u001b[0;36m  File \u001b[0;32m\"<ipython-input-15-85701318cce5>\"\u001b[0;36m, line \u001b[0;32m1\u001b[0m\n\u001b[0;31m    python game_parser.py\u001b[0m\n\u001b[0m                     ^\u001b[0m\n\u001b[0;31mSyntaxError\u001b[0m\u001b[0;31m:\u001b[0m invalid syntax\n"
       ]
      }
     ],
     "prompt_number": 15
    },
    {
     "cell_type": "code",
     "collapsed": false,
     "input": [
      "from GameProcessor import GameProcessor\n",
      "moves = [(\"e4\", \"e5\"), (\"Nf3\", \"Nc6\"), (\"Nxe5\", \"Nxe5\")]\n",
      "\n",
      "gpr = GameProcessor(moves)\n",
      "gpr.simulate_game()\n",
      "for position in gpr.positions:\n",
      "    print position"
     ],
     "language": "python",
     "metadata": {},
     "outputs": [
      {
       "output_type": "stream",
       "stream": "stdout",
       "text": [
        "\n",
        " R   N   B   K   Q   B   N   R  \n",
        "\n",
        " P   P   P   P   P   P   P   P  \n",
        "\n",
        " .   .   .   .   .   .   .   .  \n",
        "\n",
        " .   .   .   .   .   .   .   .  \n",
        "\n",
        " .   .   .   .   .   .   .   .  \n",
        "\n",
        " .   .   .   .   .   .   .   .  \n",
        "\n",
        " p   p   p   p   p   p   p   p  \n",
        "\n",
        " r   n   b   k   q   b   n   r  \n",
        "\n",
        "\n",
        "\n",
        " R   N   B   K   Q   B   N   R  \n",
        "\n",
        " P   P   P   .   P   P   P   P  \n",
        "\n",
        " .   .   .   .   .   .   .   .  \n",
        "\n",
        " .   .   .   P   .   .   .   .  \n",
        "\n",
        " .   .   .   .   .   .   .   .  \n",
        "\n",
        " .   .   .   .   .   .   .   .  \n",
        "\n",
        " p   p   p   p   p   p   p   p  \n",
        "\n",
        " r   n   b   k   q   b   n   r  \n",
        "\n",
        "\n",
        "\n",
        " R   N   B   K   Q   B   N   R  \n",
        "\n",
        " P   P   P   .   P   P   P   P  \n",
        "\n",
        " .   .   .   .   .   .   .   .  \n",
        "\n",
        " .   .   .   P   .   .   .   .  \n",
        "\n",
        " .   .   .   p   .   .   .   .  \n",
        "\n",
        " .   .   .   .   .   .   .   .  \n",
        "\n",
        " p   p   p   .   p   p   p   p  \n",
        "\n",
        " r   n   b   k   q   b   n   r  \n",
        "\n",
        "\n",
        "\n",
        " R   .   B   K   Q   B   N   R  \n",
        "\n",
        " P   P   P   .   P   P   P   P  \n",
        "\n",
        " .   .   N   .   .   .   .   .  \n",
        "\n",
        " .   .   .   P   .   .   .   .  \n",
        "\n",
        " .   .   .   p   .   .   .   .  \n",
        "\n",
        " .   .   .   .   .   .   .   .  \n",
        "\n",
        " p   p   p   .   p   p   p   p  \n",
        "\n",
        " r   n   b   k   q   b   n   r  \n",
        "\n",
        "\n",
        "\n",
        " R   .   B   K   Q   B   N   R  \n",
        "\n",
        " P   P   P   .   P   P   P   P  \n",
        "\n",
        " .   .   N   .   .   .   .   .  \n",
        "\n",
        " .   .   .   P   .   .   .   .  \n",
        "\n",
        " .   .   .   p   .   .   .   .  \n",
        "\n",
        " .   .   .   .   .   n   .   .  \n",
        "\n",
        " p   p   p   .   p   p   p   p  \n",
        "\n",
        " r   n   b   k   q   b   .   r  \n",
        "\n",
        "\n",
        "\n",
        " R   .   B   K   Q   B   N   R  \n",
        "\n",
        " P   P   P   .   P   P   P   P  \n",
        "\n",
        " .   .   .   .   .   .   .   .  \n",
        "\n",
        " .   .   .   P   .   .   .   .  \n",
        "\n",
        " .   .   .   N   .   .   .   .  \n",
        "\n",
        " .   .   .   .   .   n   .   .  \n",
        "\n",
        " p   p   p   .   p   p   p   p  \n",
        "\n",
        " r   n   b   k   q   b   .   r  \n",
        "\n",
        "\n",
        "\n",
        " R   .   B   K   Q   B   N   R  \n",
        "\n",
        " P   P   P   .   P   P   P   P  \n",
        "\n",
        " .   .   .   .   .   .   .   .  \n",
        "\n",
        " .   .   .   P   .   .   .   .  \n",
        "\n",
        " .   .   .   n   .   .   .   .  \n",
        "\n",
        " .   .   .   .   .   .   .   .  \n",
        "\n",
        " p   p   p   .   p   p   p   p  \n",
        "\n",
        " r   n   b   k   q   b   .   r  \n",
        "\n",
        "\n"
       ]
      }
     ],
     "prompt_number": 2
    },
    {
     "cell_type": "code",
     "collapsed": false,
     "input": [],
     "language": "python",
     "metadata": {},
     "outputs": []
    }
   ],
   "metadata": {}
  }
 ]
}